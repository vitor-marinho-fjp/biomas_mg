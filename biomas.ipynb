{
  "nbformat": 4,
  "nbformat_minor": 0,
  "metadata": {
    "colab": {
      "provenance": [],
      "authorship_tag": "ABX9TyPTq1Uw+LwEyNuRcMZ80Z4N",
      "include_colab_link": true
    },
    "kernelspec": {
      "name": "python3",
      "display_name": "Python 3"
    },
    "language_info": {
      "name": "python"
    }
  },
  "cells": [
    {
      "cell_type": "markdown",
      "metadata": {
        "id": "view-in-github",
        "colab_type": "text"
      },
      "source": [
        "<a href=\"https://colab.research.google.com/github/vitor-marinho-fjp/biomas_mg/blob/main/biomas.ipynb\" target=\"_parent\"><img src=\"https://colab.research.google.com/assets/colab-badge.svg\" alt=\"Open In Colab\"/></a>"
      ]
    },
    {
      "cell_type": "code",
      "execution_count": null,
      "metadata": {
        "id": "DaRc3pZWypmU"
      },
      "outputs": [],
      "source": [
        "import pandas as pd\n",
        "\n",
        "# Carregar dados\n",
        "df_mapbiomas = pd.read_excel(\"tabela_geral_mapbiomas_col8_biomas_municipios.xlsx\", sheet_name=\"COBERTURA_COL8.0\")\n",
        "\n",
        "# Pivotar os dados\n",
        "df_pivotado = df_mapbiomas.melt(id_vars=[\"geocode\"], var_name=\"ano\", value_name=\"valor\")\n",
        "\n",
        "# Calcular a área municipal por município\n",
        "area_municipal_por_municipio = df_pivotado.groupby([\"geocode\", \"ano\"])[\"valor\"].sum() / 100\n",
        "area_municipal_por_municipio = area_municipal_por_municipio.reset_index(name=\"area_municipal\")\n",
        "\n",
        "# Filtrar as classes desejadas\n",
        "classes_desejadas = [3, 4, 11, 12, 13, 29]\n",
        "formacoes_desejadas = ['Forest Formation', 'Savanna Formation', 'Wetland', 'Grassland',\n",
        "                       'Other Non Forest Natural Formation', 'Rocky outcrop']\n",
        "\n",
        "dados = df_pivotado[(df_pivotado[\"state_acronym\"] == 'MG') &\n",
        "                    (df_pivotado[\"class_id\"].isin(classes_desejadas)) &\n",
        "                    (df_pivotado[\"level_4\"].isin(formacoes_desejadas))]\n",
        "\n",
        "# Calcular a área nativa\n",
        "dados2 = dados.groupby([\"ano\", \"geocode\"])[\"valor\"].sum() / 100\n",
        "dados2 = dados2.reset_index(name=\"area_nativa\")\n",
        "\n",
        "# Juntar dados de área nativa com área municipal e calcular M_FLONATIVA\n",
        "dados2 = pd.merge(dados2, area_municipal_por_municipio, on=[\"geocode\", \"ano\"])\n",
        "dados2[\"M_FLONATIVA\"] = (dados2[\"area_nativa\"] / dados2[\"area_municipal\"]) * 100\n",
        "\n",
        "# Salvar os dados\n",
        "dados2.to_excel('area_cobertura.xlsx', index=False)\n"
      ]
    }
  ]
}